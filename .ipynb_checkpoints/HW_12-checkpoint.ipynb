{
 "cells": [
  {
   "cell_type": "code",
   "execution_count": 54,
   "metadata": {},
   "outputs": [],
   "source": [
    "import numpy as np\n",
    "import math\n",
    "from scipy.stats import norm\n",
    "import matplotlib.pyplot as plt\n",
    "%matplotlib inline"
   ]
  },
  {
   "cell_type": "markdown",
   "metadata": {},
   "source": [
    "##### Входные параметры задачи:"
   ]
  },
  {
   "cell_type": "code",
   "execution_count": 55,
   "metadata": {},
   "outputs": [],
   "source": [
    "n11 = 42\n",
    "n1_ = 105\n",
    "n21 = 65\n",
    "n2_ = 195\n",
    "H1 = 'p1 != p2' #Гипотеза H1, возможные значения 'p1 > p2', 'p1 < p2', 'p1 != p2'\n",
    "sing_level = .05"
   ]
  },
  {
   "cell_type": "markdown",
   "metadata": {},
   "source": [
    "##### Расчет статистики критерия, p-value:"
   ]
  },
  {
   "cell_type": "code",
   "execution_count": 56,
   "metadata": {},
   "outputs": [],
   "source": [
    "n_1 = n11 + n21\n",
    "n = n1_ + n2_\n",
    "T = (n11/n1_ - n21/n2_) / math.sqrt(n_1/n * (1 - n_1/n) * (1/n1_ + 1/n2_))\n",
    "getPValue = {\n",
    "    'p1 != p2': lambda x: min(2 * norm.cdf(x), 2 - 2 * norm.cdf(x)),\n",
    "    'p1 > p2': lambda x: 1 - norm.cdf(x),\n",
    "    'p1 < p2': lambda x: norm.cdf(x)\n",
    "}\n",
    "p_value = getPValue['p1 != p2'](T)"
   ]
  },
  {
   "cell_type": "code",
   "execution_count": 57,
   "metadata": {},
   "outputs": [
    {
     "name": "stdout",
     "output_type": "stream",
     "text": [
      "Статистика критерия:  1.1497694901123454\n",
      "P-значение:  0.2502388245506466\n",
      "Основная гипотеза принимается\n"
     ]
    }
   ],
   "source": [
    "print('Статистика критерия: ', T)\n",
    "print('P-значение: ', p_value)\n",
    "print('Основная гипотеза', 'принимается' if p_value > sing_level else 'отвергается')"
   ]
  }
 ],
 "metadata": {
  "kernelspec": {
   "display_name": "Python 3",
   "language": "python",
   "name": "python3"
  },
  "language_info": {
   "codemirror_mode": {
    "name": "ipython",
    "version": 3
   },
   "file_extension": ".py",
   "mimetype": "text/x-python",
   "name": "python",
   "nbconvert_exporter": "python",
   "pygments_lexer": "ipython3",
   "version": "3.7.4"
  }
 },
 "nbformat": 4,
 "nbformat_minor": 2
}
