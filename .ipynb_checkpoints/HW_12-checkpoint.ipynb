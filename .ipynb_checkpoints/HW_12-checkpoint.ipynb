{
 "cells": [
  {
   "cell_type": "code",
   "execution_count": 2,
   "metadata": {},
   "outputs": [],
   "source": [
    "import numpy as np\n",
    "import math\n",
    "from scipy.stats import norm\n",
    "import matplotlib.pyplot as plt\n",
    "%matplotlib inline"
   ]
  },
  {
   "cell_type": "markdown",
   "metadata": {},
   "source": [
    "### A/B-тестирование"
   ]
  },
  {
   "cell_type": "markdown",
   "metadata": {},
   "source": [
    "##### Входные параметры задачи:"
   ]
  },
  {
   "cell_type": "code",
   "execution_count": 32,
   "metadata": {},
   "outputs": [],
   "source": [
    "n11 = 3\n",
    "n1_ = 175\n",
    "n21 = 32\n",
    "n2_ = 500\n",
    "H1 = 'p1 < p2' #Гипотеза H1, возможные значения 'p1 > p2', 'p1 < p2', 'p1 != p2'\n",
    "sing_level = .05"
   ]
  },
  {
   "cell_type": "markdown",
   "metadata": {},
   "source": [
    "##### Расчет статистики критерия, p-value:"
   ]
  },
  {
   "cell_type": "code",
   "execution_count": 7,
   "metadata": {},
   "outputs": [],
   "source": [
    "n_1 = n11 + n21\n",
    "n = n1_ + n2_\n",
    "T = (n11/n1_ - n21/n2_) / math.sqrt(n_1/n * (1 - n_1/n) * (1/n1_ + 1/n2_))\n",
    "getPValue = {\n",
    "    'p1 != p2': lambda x: min(2 * norm.cdf(x), 2 - 2 * norm.cdf(x)),\n",
    "    'p1 > p2': lambda x: 1 - norm.cdf(x),\n",
    "    'p1 < p2': lambda x: norm.cdf(x)\n",
    "}\n",
    "p_value = getPValue['p1 != p2'](T)"
   ]
  },
  {
   "cell_type": "code",
   "execution_count": 8,
   "metadata": {},
   "outputs": [
    {
     "name": "stdout",
     "output_type": "stream",
     "text": [
      "Статистика критерия:  -2.4060669490405515\n",
      "P-значение:  0.01612530929085288\n",
      "Основная гипотеза отвергается\n"
     ]
    }
   ],
   "source": [
    "print('Статистика критерия: ', T)\n",
    "print('P-значение: ', p_value)\n",
    "print('Основная гипотеза', 'принимается' if p_value > sing_level else 'отвергается')"
   ]
  },
  {
   "cell_type": "markdown",
   "metadata": {},
   "source": [
    "##### Задача 1"
   ]
  },
  {
   "cell_type": "raw",
   "metadata": {},
   "source": [
    "Статистика критерия:  1.1497694901123454\n",
    "P-значение:  0.2502388245506466\n",
    "Основная гипотеза принимается\n",
    "Можно считать на уровне значимости 0.05, что уровни поддержки кандидата А в Курске и Владивостоке одинаковы."
   ]
  },
  {
   "cell_type": "markdown",
   "metadata": {},
   "source": [
    "##### Задача 2"
   ]
  },
  {
   "cell_type": "raw",
   "metadata": {},
   "source": [
    "Статистика критерия:  -2.4060669490405515\n",
    "P-значение:  0.01612530929085288\n",
    "Основная гипотеза отвергается\n",
    "Лекарство эффективно на уровне значимости 0.05, т.е вероятность заболеть при приеме лекарства меньше чем без него. "
   ]
  },
  {
   "cell_type": "markdown",
   "metadata": {},
   "source": [
    "### Задача о сдвиге"
   ]
  },
  {
   "cell_type": "markdown",
   "metadata": {},
   "source": [
    "##### Входные параметры задачи:"
   ]
  },
  {
   "cell_type": "code",
   "execution_count": 1,
   "metadata": {},
   "outputs": [
    {
     "data": {
      "text/plain": [
       "{110, 120, 130, 140, 150, 160, 170, 190, 200}"
      ]
     },
     "execution_count": 1,
     "metadata": {},
     "output_type": "execute_result"
    }
   ],
   "source": [
    "X = [130, 110, 120, 140, 200, 130, 140, 170, 160, 140]\n",
    "Y = [120, 190, 130, 160, 150, 120, 110, 120, 200]\n",
    "H1 = 'p1 < p2' #Гипотеза H1, возможные значения 'p1 > p2', 'p1 < p2', 'p1 != p2'\n",
    "sing_level = .05"
   ]
  },
  {
   "cell_type": "markdown",
   "metadata": {},
   "source": [
    "##### Ранжирование:"
   ]
  },
  {
   "cell_type": "code",
   "execution_count": 33,
   "metadata": {},
   "outputs": [],
   "source": [
    "sorted_list = sorted(X + Y)\n",
    "\n",
    "def get_rank(lst, num):\n",
    "    ind_list = [i + 1 for i in range(len(lst)) if sorted_list[i] == num]\n",
    "    return sum(ind_list) / len(ind_list)\n",
    "\n",
    "Y_ranked = list(map(lambda x: get_rank(sorted_list, x), Y))"
   ]
  },
  {
   "cell_type": "markdown",
   "metadata": {},
   "source": [
    "##### Расчет статистики критерия, p-value:"
   ]
  },
  {
   "cell_type": "code",
   "execution_count": null,
   "metadata": {},
   "outputs": [],
   "source": [
    "W = sum(Y_ranked)\n",
    "m = len(X)\n",
    "n = len(Y)\n",
    "M_W = n/2*(m + n + 1)\n",
    "D_W = m*n/12*(m + n + 1)\n",
    "\n",
    "W\n",
    "\n",
    "getPValue = {\n",
    "    'p1 != p2': lambda x: min(2 * norm.cdf(x), 2 - 2 * norm.cdf(x)),\n",
    "    'p1 > p2': lambda x: 1 - norm.cdf(x),\n",
    "    'p1 < p2': lambda x: norm.cdf(x)\n",
    "}\n",
    "p_value = getPValue['p1 != p2'](T)"
   ]
  },
  {
   "cell_type": "code",
   "execution_count": 26,
   "metadata": {},
   "outputs": [
    {
     "name": "stdout",
     "output_type": "stream",
     "text": [
      "[110, 110, 120, 120, 120, 120, 130, 130, 130, 140, 140, 140, 150, 160, 160, 170, 190, 200, 200]\n"
     ]
    }
   ],
   "source": []
  },
  {
   "cell_type": "code",
   "execution_count": 27,
   "metadata": {},
   "outputs": [
    {
     "data": {
      "text/plain": [
       "13.0"
      ]
     },
     "execution_count": 27,
     "metadata": {},
     "output_type": "execute_result"
    }
   ],
   "source": [
    "get_rank(sorted_list, 150)"
   ]
  },
  {
   "cell_type": "code",
   "execution_count": 30,
   "metadata": {},
   "outputs": [],
   "source": []
  },
  {
   "cell_type": "code",
   "execution_count": null,
   "metadata": {},
   "outputs": [],
   "source": [
    "print"
   ]
  },
  {
   "cell_type": "code",
   "execution_count": 10,
   "metadata": {},
   "outputs": [
    {
     "data": {
      "text/plain": [
       "3"
      ]
     },
     "execution_count": 10,
     "metadata": {},
     "output_type": "execute_result"
    }
   ],
   "source": [
    "sorted(list(set(X + Y)))\n",
    "def getlen(list(filter(lambda x: x == 140, X + Y)))"
   ]
  },
  {
   "cell_type": "code",
   "execution_count": null,
   "metadata": {},
   "outputs": [],
   "source": []
  }
 ],
 "metadata": {
  "kernelspec": {
   "display_name": "Python 3",
   "language": "python",
   "name": "python3"
  },
  "language_info": {
   "codemirror_mode": {
    "name": "ipython",
    "version": 3
   },
   "file_extension": ".py",
   "mimetype": "text/x-python",
   "name": "python",
   "nbconvert_exporter": "python",
   "pygments_lexer": "ipython3",
   "version": "3.7.4"
  }
 },
 "nbformat": 4,
 "nbformat_minor": 2
}
