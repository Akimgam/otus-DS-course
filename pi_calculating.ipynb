{
 "cells": [
  {
   "cell_type": "code",
   "execution_count": 1,
   "metadata": {},
   "outputs": [],
   "source": [
    "import numpy as np"
   ]
  },
  {
   "cell_type": "code",
   "execution_count": 26,
   "metadata": {},
   "outputs": [
    {
     "name": "stdout",
     "output_type": "stream",
     "text": [
      "n= 100 , pi= 3.24\n",
      "n= 1000 , pi= 3.08\n",
      "n= 10000 , pi= 3.1652\n",
      "n= 100000 , pi= 3.14392\n",
      "n= 1000000 , pi= 3.140828\n"
     ]
    }
   ],
   "source": [
    "n = 10\n",
    "for i in range(5):\n",
    "    n *= 10\n",
    "    X = np.random.uniform(size=n)\n",
    "    Y = np.random.uniform(size=n)\n",
    "    n_in_circle = sum((X**2 + Y**2) < 1)\n",
    "    pi = 4 * n_in_circle / n\n",
    "    print('n=', n, ', pi=', pi)"
   ]
  }
 ],
 "metadata": {
  "kernelspec": {
   "display_name": "Python 3",
   "language": "python",
   "name": "python3"
  },
  "language_info": {
   "codemirror_mode": {
    "name": "ipython",
    "version": 3
   },
   "file_extension": ".py",
   "mimetype": "text/x-python",
   "name": "python",
   "nbconvert_exporter": "python",
   "pygments_lexer": "ipython3",
   "version": "3.7.4"
  }
 },
 "nbformat": 4,
 "nbformat_minor": 2
}
