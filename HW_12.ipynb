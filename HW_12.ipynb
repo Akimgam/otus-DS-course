{
 "cells": [
  {
   "cell_type": "code",
   "execution_count": 2,
   "metadata": {},
   "outputs": [],
   "source": [
    "import numpy as np\n",
    "import math\n",
    "from scipy.stats import norm\n",
    "import matplotlib.pyplot as plt\n",
    "%matplotlib inline"
   ]
  },
  {
   "cell_type": "markdown",
   "metadata": {},
   "source": [
    "### A/B-тестирование"
   ]
  },
  {
   "cell_type": "markdown",
   "metadata": {},
   "source": [
    "##### Входные параметры задачи:"
   ]
  },
  {
   "cell_type": "code",
   "execution_count": 37,
   "metadata": {},
   "outputs": [],
   "source": [
    "n11 = 3\n",
    "n1_ = 175\n",
    "n21 = 32\n",
    "n2_ = 500\n",
    "H1 = 'p1 != p2' #Гипотеза H1, возможные значения 'p1 > p2', 'p1 < p2', 'p1 != p2'\n",
    "sing_level = .05"
   ]
  },
  {
   "cell_type": "markdown",
   "metadata": {},
   "source": [
    "##### Расчет статистики критерия, p-value:"
   ]
  },
  {
   "cell_type": "code",
   "execution_count": 38,
   "metadata": {},
   "outputs": [],
   "source": [
    "n_1 = n11 + n21\n",
    "n = n1_ + n2_\n",
    "T = (n11/n1_ - n21/n2_) / math.sqrt(n_1/n * (1 - n_1/n) * (1/n1_ + 1/n2_))\n",
    "getPValue = {\n",
    "    'p1 != p2': lambda x: min(2 * norm.cdf(x), 2 - 2 * norm.cdf(x)),\n",
    "    'p1 > p2': lambda x: 1 - norm.cdf(x),\n",
    "    'p1 < p2': lambda x: norm.cdf(x)\n",
    "}\n",
    "p_value = getPValue[H1](T)"
   ]
  },
  {
   "cell_type": "code",
   "execution_count": 39,
   "metadata": {},
   "outputs": [
    {
     "name": "stdout",
     "output_type": "stream",
     "text": [
      "Статистика критерия:  -2.4060669490405515\n",
      "P-значение:  0.01612530929085288\n",
      "Основная гипотеза отвергается\n"
     ]
    }
   ],
   "source": [
    "print('Статистика критерия: ', T)\n",
    "print('P-значение: ', p_value)\n",
    "print('Основная гипотеза', 'принимается' if p_value > sing_level else 'отвергается')"
   ]
  },
  {
   "cell_type": "markdown",
   "metadata": {},
   "source": [
    "##### Задача 1"
   ]
  },
  {
   "cell_type": "raw",
   "metadata": {},
   "source": [
    "Статистика критерия:  1.1497694901123454\n",
    "P-значение:  0.2502388245506466\n",
    "Основная гипотеза принимается\n",
    "Можно считать на уровне значимости 0.05, что уровни поддержки кандидата А в Курске и Владивостоке одинаковы."
   ]
  },
  {
   "cell_type": "markdown",
   "metadata": {},
   "source": [
    "##### Задача 2"
   ]
  },
  {
   "cell_type": "raw",
   "metadata": {},
   "source": [
    "Статистика критерия:  -2.4060669490405515\n",
    "P-значение:  0.01612530929085288\n",
    "Основная гипотеза отвергается\n",
    "Лекарство эффективно на уровне значимости 0.05, т.е вероятность заболеть при приеме лекарства меньше чем без него. "
   ]
  },
  {
   "cell_type": "markdown",
   "metadata": {},
   "source": [
    "### Задача о сдвиге"
   ]
  },
  {
   "cell_type": "markdown",
   "metadata": {},
   "source": [
    "##### Входные параметры задачи:"
   ]
  },
  {
   "cell_type": "code",
   "execution_count": 78,
   "metadata": {},
   "outputs": [],
   "source": [
    "# X = [102.4, 100, 67.6, 65.9, 64.7, 39.6, 31.2]\n",
    "# Y = [48.1, 45.5, 41.7, 35.4, 29.1, 18.9, 58.3, 68.8, 71.3, 94.3]\n",
    "X = [130, 110, 120, 140, 200, 130, 140, 170, 160, 140]\n",
    "Y = [120, 190, 130, 160, 150, 120, 110, 120, 200]\n",
    "H1 = 'M1 > M2' #Гипотеза H1, возможные значения 'M1 > M2', 'M1 < M2', 'M1 != M2'\n",
    "sing_level = .05"
   ]
  },
  {
   "cell_type": "markdown",
   "metadata": {},
   "source": [
    "##### Ранжирование:"
   ]
  },
  {
   "cell_type": "code",
   "execution_count": 79,
   "metadata": {},
   "outputs": [],
   "source": [
    "sorted_list = sorted(X + Y)\n",
    "\n",
    "def get_rank(lst, num):\n",
    "    ind_list = [i + 1 for i in range(len(lst)) if sorted_list[i] == num]\n",
    "    return sum(ind_list) / len(ind_list)\n",
    "\n",
    "Y_ranked = list(map(lambda x: get_rank(sorted_list, x), Y))"
   ]
  },
  {
   "cell_type": "markdown",
   "metadata": {},
   "source": [
    "##### Расчет статистики критерия, p-value:"
   ]
  },
  {
   "cell_type": "code",
   "execution_count": 80,
   "metadata": {},
   "outputs": [],
   "source": [
    "W = sum(Y_ranked)\n",
    "m = len(X)\n",
    "n = len(Y)\n",
    "M_W = n/2*(m + n + 1)\n",
    "D_W = m*n/12*(m + n + 1)\n",
    "\n",
    "W_stat = (W - M_W) / math.sqrt(D_W)\n",
    "\n",
    "getPValue = {\n",
    "    'M1 != M2': lambda x: min(2 * norm.cdf(x), 2 - 2 * norm.cdf(x)),\n",
    "    'M1 < M2': lambda x: 1 - norm.cdf(x),\n",
    "    'M1 > M2': lambda x: norm.cdf(x)\n",
    "}\n",
    "p_value = getPValue[H1](W_stat)"
   ]
  },
  {
   "cell_type": "code",
   "execution_count": 81,
   "metadata": {},
   "outputs": [
    {
     "name": "stdout",
     "output_type": "stream",
     "text": [
      "Статистика критерия:  -0.32659863237109044\n",
      "P-значение:  0.37198573903752846\n",
      "Основная гипотеза принимается\n"
     ]
    }
   ],
   "source": [
    "print('Статистика критерия: ', W_stat)\n",
    "print('P-значение: ', p_value)\n",
    "print('Основная гипотеза', 'принимается' if p_value > sing_level else 'отвергается')"
   ]
  },
  {
   "cell_type": "markdown",
   "metadata": {},
   "source": [
    "##### Задача 3"
   ]
  },
  {
   "cell_type": "code",
   "execution_count": 82,
   "metadata": {},
   "outputs": [
    {
     "ename": "SyntaxError",
     "evalue": "invalid syntax (<ipython-input-82-1ec81dd458c4>, line 3)",
     "output_type": "error",
     "traceback": [
      "\u001b[1;36m  File \u001b[1;32m\"<ipython-input-82-1ec81dd458c4>\"\u001b[1;36m, line \u001b[1;32m3\u001b[0m\n\u001b[1;33m    Основная гипотеза принимается\u001b[0m\n\u001b[1;37m                    ^\u001b[0m\n\u001b[1;31mSyntaxError\u001b[0m\u001b[1;31m:\u001b[0m invalid syntax\n"
     ]
    }
   ],
   "source": [
    "# Статистика критерия:  -0.32659863237109044\n",
    "# P-значение:  0.37198573903752846\n",
    "# Основная гипотеза принимается\n",
    "# Не можем на заданном уровне значимости сказать, что давление горожан в среднем выше"
   ]
  },
  {
   "cell_type": "markdown",
   "metadata": {},
   "source": [
    "##### Задача 4"
   ]
  },
  {
   "cell_type": "raw",
   "metadata": {},
   "source": [
    "Статистика критерия:  -1.0734900802433864\n",
    "P-значение:  0.28305128705188465\n",
    "Основная гипотеза принимается\n",
    "Не можем с надежностью 0,95 считать что уровень гистамина у групп различается"
   ]
  }
 ],
 "metadata": {
  "kernelspec": {
   "display_name": "Python 3",
   "language": "python",
   "name": "python3"
  },
  "language_info": {
   "codemirror_mode": {
    "name": "ipython",
    "version": 3
   },
   "file_extension": ".py",
   "mimetype": "text/x-python",
   "name": "python",
   "nbconvert_exporter": "python",
   "pygments_lexer": "ipython3",
   "version": "3.7.4"
  }
 },
 "nbformat": 4,
 "nbformat_minor": 2
}
